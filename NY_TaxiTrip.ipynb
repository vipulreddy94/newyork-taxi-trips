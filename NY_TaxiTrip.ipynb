{
  "nbformat": 4,
  "nbformat_minor": 0,
  "metadata": {
    "colab": {
      "provenance": [],
      "include_colab_link": true
    },
    "kernelspec": {
      "name": "python3",
      "display_name": "Python 3"
    },
    "language_info": {
      "name": "python"
    }
  },
  "cells": [
    {
      "cell_type": "markdown",
      "metadata": {
        "id": "view-in-github",
        "colab_type": "text"
      },
      "source": [
        "<a href=\"https://colab.research.google.com/github/vipulreddy94/newyork-taxi-trips/blob/vipul-branch/NY_TaxiTrip.ipynb\" target=\"_parent\"><img src=\"https://colab.research.google.com/assets/colab-badge.svg\" alt=\"Open In Colab\"/></a>"
      ]
    },
    {
      "cell_type": "code",
      "execution_count": null,
      "metadata": {
        "id": "Gs6VH9mbB2Tf",
        "colab": {
          "base_uri": "https://localhost:8080/"
        },
        "outputId": "57fc260e-ab1f-48c7-c18e-262484826df8"
      },
      "outputs": [
        {
          "output_type": "stream",
          "name": "stdout",
          "text": [
            "2\n"
          ]
        }
      ],
      "source": [
        "import pandas as pd\n",
        "a=2\n",
        "print(a)"
      ]
    },
    {
      "cell_type": "code",
      "source": [
        "b=1\n",
        "print(b)"
      ],
      "metadata": {
        "id": "cuTx17LbGFWJ",
        "outputId": "33d20e36-c6b4-4625-ab22-15ead8943597",
        "colab": {
          "base_uri": "https://localhost:8080/"
        }
      },
      "execution_count": null,
      "outputs": [
        {
          "output_type": "stream",
          "name": "stdout",
          "text": [
            "1\n"
          ]
        }
      ]
    }
  ]
}